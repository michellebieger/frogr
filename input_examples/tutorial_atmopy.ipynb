{
 "cells": [
  {
   "cell_type": "markdown",
   "id": "ccf9ab7c",
   "metadata": {},
   "source": [
    "# Quickstart\n",
    "\n",
    "This is a guide to using the ATMO equilibrium chemistry plugin for TauREx 3.1, developed by Michelle Fabienne Bieger and Ahmed Al-Refaie.\n",
    "\n",
    "## Prerequisites\n",
    "\n",
    "Before using this plugin, please ensure that you have already installed TauREx (https://taurex3-public.readthedocs.io/; please note you will also need absorption cross sections) and ATMO (https://www.gitlab.erc-atmo.eu/1-2d_tools/atmo). To receive access to ATMO, please contact Pascal Tremblin of CEA Saclay: pascal.tremblin@cea.fr "
   ]
  },
  {
   "cell_type": "code",
   "execution_count": 1,
   "id": "62a1257b",
   "metadata": {},
   "outputs": [
    {
     "name": "stdout",
     "output_type": "stream",
     "text": [
      "3.1.1-alpha\n"
     ]
    }
   ],
   "source": [
    "# Check that you have the latest version of TauREx (3.1.1-alpha)\n",
    "# Git-clone the UCL GitHub page in order to get the latest version \n",
    "\n",
    "import taurex\n",
    "print(taurex.__version__)"
   ]
  },
  {
   "cell_type": "markdown",
   "id": "9fa89461",
   "metadata": {},
   "source": [
    "Now let's see if your frogr has installed correctly: "
   ]
  },
  {
   "cell_type": "code",
   "execution_count": 3,
   "id": "f4b1e39d",
   "metadata": {},
   "outputs": [],
   "source": [
    "# Check that you have installed frogr correctly\n",
    "# Note that the plugin itself is named atmopy \n",
    "import atmopy\n",
    "# print(atmopy.__version__)"
   ]
  },
  {
   "cell_type": "markdown",
   "id": "27424f92",
   "metadata": {},
   "source": [
    "Make sure to set the path to an established ATMO .exe! "
   ]
  },
  {
   "cell_type": "code",
   "execution_count": null,
   "id": "73d21835",
   "metadata": {},
   "outputs": [],
   "source": [
    "import os\n",
    "os.environ[\"ATMO_PATH\"]=\"/Users/mbieger/atmo/tutorial/chem_eq/\""
   ]
  },
  {
   "cell_type": "code",
   "execution_count": null,
   "id": "97c5962c",
   "metadata": {},
   "outputs": [],
   "source": [
    "# Importing required interactive plotting packages \n",
    "\n",
    "import matplotlib.pyplot as plt\n",
    "%matplotlib notebook\n",
    "from ipywidgets import *\n",
    "import numpy as np\n",
    "import pickle\n",
    "import sys"
   ]
  },
  {
   "cell_type": "code",
   "execution_count": null,
   "id": "32b9b968",
   "metadata": {},
   "outputs": [],
   "source": [
    "# Load required TauREx cross sections\n",
    "# Customise to your system paths as required \n",
    "from taurex.cache import OpacityCache,CIACache\n",
    "\n",
    "OpacityCache().clear_cache()\n",
    "OpacityCache().set_opacity_path(\"/Users/mbieger/data/xsec/xsec_sampled_R15000_0\")\n",
    "CIACache().set_cia_path(\"/Users/mbieger/data/cia/HITRAN/data\")"
   ]
  },
  {
   "cell_type": "markdown",
   "id": "b64d7035",
   "metadata": {},
   "source": [
    "# Showcasing the use of the ATMOPy plugin \n",
    "\n",
    "In this section, we'll be exploring how to use the ATMOPy plugin. First, we'll set up a TauREx model and then insert the ATMOPy chemistry to see how that affects the forward model and subsequent retrievals."
   ]
  },
  {
   "cell_type": "markdown",
   "id": "554a262b",
   "metadata": {},
   "source": [
    "### Setting up the forward model "
   ]
  },
  {
   "cell_type": "code",
   "execution_count": null,
   "id": "47500c00",
   "metadata": {},
   "outputs": [],
   "source": [
    "# Select a temperature profile\n",
    "from taurex.temperature import Isothermal\n",
    "iso = Isothermal(T=1900.0)\n",
    "\n",
    "# Setting up the planet\n",
    "from taurex.planet import Planet\n",
    "planet = Planet(planet_radius=1.53,planet_mass=0.85)\n",
    "\n",
    "# Setting up a host blackbody star\n",
    "from taurex.stellar import BlackbodyStar\n",
    "star = BlackbodyStar(temperature=6600.0,radius=1.51)\n",
    "\n",
    "# Setting up a chemistry profile: we want to use our newfound fun toy\n",
    "from atmopy.taurex import ATMOChemistry\n",
    "\n",
    "# Initialising a transmission model with pressures and layers and incorporating our previously loaded profiles\n",
    "from taurex.model import TransmissionModel\n",
    "tm = TransmissionModel(planet=planet,\n",
    "                       temperature_profile=iso,\n",
    "                       chemistry=ATMOChemistry(),\n",
    "                       star=star,\n",
    "                       atm_min_pressure=1e-0,\n",
    "                       atm_max_pressure=1e6,\n",
    "                       nlayers=30)"
   ]
  },
  {
   "cell_type": "code",
   "execution_count": null,
   "id": "57139180",
   "metadata": {},
   "outputs": [],
   "source": [
    "# Adding in actual physics to the model now with absorptions \n",
    "from taurex.contributions import AbsorptionContribution\n",
    "tm.add_contribution(AbsorptionContribution())\n",
    "\n",
    "# CIA absorption\n",
    "from taurex.contributions import CIAContribution\n",
    "tm.add_contribution(CIAContribution(cia_pairs=['H2-H2','H2-He']))\n",
    "\n",
    "# Rayleigh scattering\n",
    "from taurex.contributions import RayleighContribution\n",
    "tm.add_contribution(RayleighContribution())"
   ]
  },
  {
   "cell_type": "markdown",
   "id": "f81f78e6",
   "metadata": {},
   "source": [
    "Now we can build the transmission build and run it. Res (\"result\") of the transmission model will have four components (grouped via arrays) to it: \n",
    "\n",
    "- The wavenumber grid\n",
    "- The *native* flux\n",
    "- The optical depth\n",
    "- Any extra information"
   ]
  },
  {
   "cell_type": "code",
   "execution_count": null,
   "id": "22244034",
   "metadata": {},
   "outputs": [],
   "source": [
    "# Building the transmission model up\n",
    "tm.build()\n",
    "\n",
    "# Running the transmission model\n",
    "res = tm.model()\n",
    "res"
   ]
  },
  {
   "cell_type": "code",
   "execution_count": null,
   "id": "68500738",
   "metadata": {},
   "outputs": [],
   "source": [
    "list(tm.fittingParameters.keys())"
   ]
  },
  {
   "cell_type": "markdown",
   "id": "e6905e46",
   "metadata": {},
   "source": [
    "### Plot the chemistry of the atmosphere"
   ]
  },
  {
   "cell_type": "code",
   "execution_count": null,
   "id": "27595f13",
   "metadata": {},
   "outputs": [],
   "source": [
    "plt.figure()\n",
    "\n",
    "for x,gasname in enumerate(tm.chemistry.activeGases):\n",
    "    plt.plot(tm.chemistry.activeGasMixProfile[x],tm.pressureProfile,label=gasname)\n",
    "\n",
    "# for x,gasname in enumerate(tm.chemistry.inactiveGases):\n",
    "#     plt.plot(tm.chemistry.inactiveGasMixProfile[x],tm.pressureProfile/1e5,label=gasname)\n",
    "\n",
    "plt.xscale(\"log\")\n",
    "plt.xlabel(\"Gas abundance [mole fraction]\")\n",
    "\n",
    "# plt.gca().invert_yaxis()\n",
    "plt.yscale(\"log\")\n",
    "plt.ylabel(\"Pressure profile [Pa]\")\n",
    "\n",
    "plt.title(\"Active Gas Profiles\")\n",
    "plt.legend()\n",
    "plt.show()"
   ]
  },
  {
   "cell_type": "code",
   "execution_count": null,
   "id": "8919858a",
   "metadata": {},
   "outputs": [],
   "source": [
    "plt.figure(figsize=(15,15))\n",
    "\n",
    "for x,gasname in enumerate(tm.chemistry.inactiveGases):\n",
    "    plt.plot(tm.chemistry.inactiveGasMixProfile[x],tm.pressureProfile/1e5,label=gasname)\n",
    "\n",
    "plt.xscale(\"log\")\n",
    "plt.xlabel(\"Gas abundance [mole fraction]\")\n",
    "\n",
    "# plt.gca().invert_yaxis()\n",
    "plt.yscale(\"log\")\n",
    "plt.ylabel(\"Pressure profile [Pa]\")\n",
    "\n",
    "plt.title(\"Inactive Gas Profiles\")\n",
    "plt.legend()\n",
    "plt.show()"
   ]
  },
  {
   "cell_type": "markdown",
   "id": "09ee5868",
   "metadata": {},
   "source": [
    "### Plot the flux of the atmosphere (and bin it!)"
   ]
  },
  {
   "cell_type": "code",
   "execution_count": null,
   "id": "2c961b38",
   "metadata": {},
   "outputs": [],
   "source": [
    "native_grid, rprs, tau, _ = res\n",
    "\n",
    "full_fig = plt.figure()\n",
    "plt.plot(np.log10(10000/native_grid),rprs)\n",
    "\n",
    "plt.xlabel(r\"Wavelength ($\\mu$m)\")\n",
    "plt.ylabel(r\"(R$_p$/R$_s)^2$\")\n",
    "plt.title(\"Spectra\")\n",
    "plt.show()"
   ]
  },
  {
   "cell_type": "code",
   "execution_count": null,
   "id": "5482f5cb",
   "metadata": {},
   "outputs": [],
   "source": [
    "from taurex.binning import FluxBinner,SimpleBinner\n",
    "binned_fig = plt.figure()\n",
    "\n",
    "\n",
    "# Make a logarithmic grid\n",
    "wngrid = np.sort(10000/np.logspace(-0.4,1.1,1000))\n",
    "bn = SimpleBinner(wngrid=wngrid)\n",
    "\n",
    "bin_wn, bin_rprs,_,_  = bn.bin_model(tm.model(wngrid=wngrid))\n",
    "\n",
    "plt.plot(10000/bin_wn,bin_rprs)\n",
    "\n",
    "plt.xscale('log')\n",
    "plt.xlabel(r\"Wavelength ($\\mu$m)\")\n",
    "plt.ylabel(r\"(R$_p$/R$_s)^2$\")\n",
    "plt.title(\"Binned spectra\")\n",
    "\n",
    "plt.show()"
   ]
  },
  {
   "cell_type": "markdown",
   "id": "cf7379c1",
   "metadata": {},
   "source": [
    "### Transmission, emission, and direct imaging too"
   ]
  },
  {
   "cell_type": "code",
   "execution_count": null,
   "id": "621cf61f",
   "metadata": {},
   "outputs": [],
   "source": [
    "# Setting up emission and direct image, in the same vein as the TM above \n",
    "from taurex.model import EmissionModel, DirectImageModel\n",
    "em = EmissionModel(planet=planet,\n",
    "                       temperature_profile=iso,\n",
    "                       chemistry=ATMOChemistry(),\n",
    "                       star=star,\n",
    "                        atm_min_pressure=1e-0,\n",
    "                       atm_max_pressure=1e6,\n",
    "                       nlayers=30)\n",
    "di = DirectImageModel(planet=planet,\n",
    "                       temperature_profile=iso,\n",
    "                       chemistry=ATMOChemistry(),\n",
    "                       star=star,\n",
    "                        atm_min_pressure=1e-0,\n",
    "                       atm_max_pressure=1e6,\n",
    "                       nlayers=30)\n",
    "\n",
    "em.add_contribution(AbsorptionContribution())\n",
    "em.add_contribution(CIAContribution(cia_pairs=['H2-H2','H2-He']))\n",
    "em.add_contribution(RayleighContribution())\n",
    "\n",
    "di.add_contribution(AbsorptionContribution())\n",
    "di.add_contribution(CIAContribution(cia_pairs=['H2-H2','H2-He']))\n",
    "di.add_contribution(RayleighContribution())\n",
    "\n",
    "em.build()\n",
    "di.build()"
   ]
  },
  {
   "cell_type": "code",
   "execution_count": null,
   "id": "60f3c5d2",
   "metadata": {},
   "outputs": [],
   "source": [
    "wngrid = np.sort(10000/np.logspace(-0.4,1.1,1000))\n",
    "\n",
    "all_fig = plt.figure(figsize=(12,8))\n",
    "tm_ax = all_fig.add_subplot(1,3,1)\n",
    "em_ax = all_fig.add_subplot(1,3,2)\n",
    "di_ax = all_fig.add_subplot(1,3,3)\n",
    "model_tm, = tm_ax.plot(10000/wngrid,bn.bin_model(tm.model(wngrid))[1])\n",
    "model_em, = em_ax.plot(10000/wngrid,bn.bin_model(em.model(wngrid))[1])\n",
    "model_di, = di_ax.plot(10000/wngrid,bn.bin_model(di.model(wngrid))[1])\n",
    "tm_ax.set_xscale('log')\n",
    "em_ax.set_xscale('log')\n",
    "di_ax.set_xscale('log')\n",
    "tm_ax.set_title('Transmission')\n",
    "em_ax.set_title('Emission')\n",
    "di_ax.set_title('Direct Image')\n",
    "tm_ax.set_xlabel(r\"Wavelength ($\\mu$m)\")\n",
    "em_ax.set_xlabel(r\"Wavelength ($\\mu$m)\")\n",
    "di_ax.set_xlabel(r\"Wavelength ($\\mu$m)\")\n",
    "\n",
    "\n",
    "# TauREx can iteratively change the model as you go with update_model"
   ]
  },
  {
   "cell_type": "markdown",
   "id": "1139d997",
   "metadata": {},
   "source": [
    "### Retrievals"
   ]
  },
  {
   "cell_type": "code",
   "execution_count": null,
   "id": "4eef18cc",
   "metadata": {},
   "outputs": [],
   "source": [
    "# Retrievals required data! Let's load her in \n",
    "from taurex.data.spectrum.observed import ObservedSpectrum\n",
    "obs = ObservedSpectrum('/Users/mbieger/OneDrive - University of Exeter/planetspectra/wasp_79b/spectra/WASP-79_transmission_hstspitz.dat')"
   ]
  },
  {
   "cell_type": "code",
   "execution_count": null,
   "id": "f2a39bb4",
   "metadata": {},
   "outputs": [],
   "source": [
    "# Binning down the native data \n",
    "obin = obs.create_binner()\n",
    "\n",
    "# Plotting the data \n",
    "plt.figure(figsize=(8,6))\n",
    "plt.errorbar(obs.wavelengthGrid,obs.spectrum,obs.errorBar,lw=1,color='black',marker='d',ls='none',zorder=1,label='Observed')\n",
    "\n",
    "plt.plot(obs.wavelengthGrid,obin.bin_model(tm.model(obs.wavenumberGrid))[1],label='Transmission forward model')\n",
    "\n",
    "plt.xlabel(r\"Wavelength ($\\mu$m)\")\n",
    "plt.ylabel(r\"(R$_p$/R$_s)^2$\")\n",
    "plt.legend(loc='best')\n",
    "plt.show()"
   ]
  },
  {
   "cell_type": "code",
   "execution_count": null,
   "id": "89788140",
   "metadata": {},
   "outputs": [],
   "source": [
    "# Choosing the parameter estimation sampler: Nestle \n",
    "\n",
    "from taurex.optimizer.nestle import NestleOptimizer\n",
    "opt = NestleOptimizer(num_live_points=50)\n",
    "\n",
    "# Giving it our forward model (transmission) and the observations \n",
    "opt.set_model(tm)\n",
    "opt.set_observed(obs)\n",
    "\n",
    "# Giving it our preferred parameters to fit and their prior boundaries \n",
    "opt.enable_fit('planet_radius')\n",
    "opt.enable_fit('T')\n",
    "opt.set_boundary('T',[1200,2300])\n",
    "opt.set_boundary('planet_radius',[0.5,2])"
   ]
  },
  {
   "cell_type": "code",
   "execution_count": null,
   "id": "4d608737",
   "metadata": {},
   "outputs": [],
   "source": [
    "# Fitting the retrieval \n",
    "solution = opt.fit()\n",
    "taurex.log.disableLogging()"
   ]
  },
  {
   "cell_type": "code",
   "execution_count": null,
   "id": "a9fef972",
   "metadata": {},
   "outputs": [],
   "source": [
    "# Plotting the solution via loop \n",
    "for solution,optimized_map,optimized_value,values in opt.get_solution():\n",
    "    opt.update_model(optimized_map)\n",
    "    plt.figure()\n",
    "    plt.errorbar(obs.wavelengthGrid,obs.spectrum,obs.errorBar,lw=1,color='black',marker='d',ls='none',zorder=1,label='Observed')\n",
    "    plt.plot(obs.wavelengthGrid,obin.bin_model(tm.model(obs.wavenumberGrid))[1],label='Retrieved transmission model')\n",
    "    plt.xlabel(r\"Wavelength ($\\mu$m)\")\n",
    "    plt.ylabel(r\"(R$_p$/R$_s)^2$\")\n",
    "    plt.legend()\n",
    "    plt.show()"
   ]
  },
  {
   "cell_type": "markdown",
   "id": "18c2e532",
   "metadata": {},
   "source": [
    "# Compare/contrasting to other TauREx chemistry models\n",
    "\n",
    "Remember the models we've just set up? Let's see how it ATMO chemistry compares to other available chemistry plugin models."
   ]
  },
  {
   "cell_type": "code",
   "execution_count": null,
   "id": "040bd780",
   "metadata": {},
   "outputs": [],
   "source": [
    "# from taurex.chemistry import TaurexChemistry\n",
    "# chemistry = TaurexChemistry(fill_gases=['H2','He'],ratio=0.172)"
   ]
  }
 ],
 "metadata": {
  "kernelspec": {
   "display_name": "Python 3 (ipykernel)",
   "language": "python",
   "name": "python3"
  },
  "language_info": {
   "codemirror_mode": {
    "name": "ipython",
    "version": 3
   },
   "file_extension": ".py",
   "mimetype": "text/x-python",
   "name": "python",
   "nbconvert_exporter": "python",
   "pygments_lexer": "ipython3",
   "version": "3.10.2"
  },
  "vscode": {
   "interpreter": {
    "hash": "9a5463373f073af00a06ce204ae54c95f4a0ecd9dae52b1028e0ad4caac35567"
   }
  }
 },
 "nbformat": 4,
 "nbformat_minor": 5
}
